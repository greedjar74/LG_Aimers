{
 "cells": [
  {
   "cell_type": "markdown",
   "id": "9c12fd89",
   "metadata": {},
   "source": [
    "# t-SNE"
   ]
  },
  {
   "cell_type": "markdown",
   "id": "6a7bf844",
   "metadata": {},
   "source": [
    "실습\n",
    "사이킷런에 저장된 데이터를 불러오고, 2개의 변수만을 가질 수 있도록 고정하여 반환하는 함수load_data()를 구현합니다.\n",
    "t-SNE를 활용하여 2차원 데이터를 1차원으로 축소하는 함수 tsne_data()를 완성합니다.\n",
    "출력된 original shape와 transformed shape와 원본 데이터 X값과 차원 축소 이후 데이터 값을 비교하며 확인해봅니다."
   ]
  },
  {
   "cell_type": "code",
   "execution_count": null,
   "id": "610797bb",
   "metadata": {},
   "outputs": [],
   "source": [
    "import numpy as np\n",
    "from sklearn.manifold import TSNE\n",
    "from sklearn.datasets import load_wine\n",
    "import matplotlib.pyplot as plt\n",
    "\n",
    "from elice_utils import EliceUtils\n",
    "elice_utils = EliceUtils()\n",
    "\n",
    "\"\"\"\n",
    "1. 사이킷런에 저장된 데이터를 불러오고, \n",
    "   2개의 변수만을 가질 수 있도록 \n",
    "   고정하여 반환하는 함수를 구현합니다.\n",
    "   \n",
    "   Step01. load_wine()을 활용해 사이킷런에 저장된 와인 데이터를 불러옵니다.\n",
    "           데이터는 (X, y) 형태로 불러와야 합니다. (return_X_y를 True로 지정해야 합니다)\n",
    "           \n",
    "   Step02. column_start로 지정된 특정 column으로부터\n",
    "           연속되는 2개의 변수를 X에 저장합니다.\n",
    "          \n",
    "\"\"\"\n",
    "def load_data():\n",
    "    \n",
    "    X, y = None\n",
    "    \n",
    "    column_start = 6\n",
    "    X = X[:, column_start : column_start+2]\n",
    "    print(X.shape)\n",
    "    return X\n",
    "    \n",
    "\"\"\"\n",
    "2. t-SNE를 활용하여 \n",
    "   2차원 데이터를 1차원으로 축소하는 함수를 완성합니다.\n",
    "   \n",
    "   Step01. t-SNE의 n_components를 1로 지정하여 \n",
    "           tsne를 정의합니다.\n",
    "           \n",
    "   Step02. tsne를 활용하여 차원 축소를 진행한 후,\n",
    "           차원이 축소된 데이터 X_tsne를 추출합니다.\n",
    "\"\"\"\n",
    "def tsne_data(X):\n",
    "    \n",
    "    tsne = None\n",
    "    \n",
    "    X_tsne = None\n",
    "    \n",
    "    return tsne, X_tsne\n",
    "\n",
    "def main():\n",
    "    \n",
    "    X = load_data()\n",
    "    \n",
    "    tsne, X_tsne = tsne_data(X)\n",
    "    \n",
    "    print(\"- original shape:   \", X.shape)\n",
    "    print(\"- transformed shape:\", X_tsne.shape)\n",
    "    \n",
    "    print(\"\\n원본 데이터 X :\\n\", X[:5])\n",
    "    print(\"\\n차원 축소 이후 데이터 X_tsne\\n\",X_tsne[:5])\n",
    "    \n",
    "    \n",
    "if __name__ == '__main__':\n",
    "    main()"
   ]
  },
  {
   "cell_type": "code",
   "execution_count": null,
   "id": "0e27d7c5",
   "metadata": {},
   "outputs": [],
   "source": [
    "import numpy as np\n",
    "from sklearn.manifold import TSNE\n",
    "from sklearn.datasets import load_wine\n",
    "import matplotlib.pyplot as plt\n",
    "\n",
    "# from elice_utils import EliceUtils\n",
    "# elice_utils = EliceUtils()\n",
    "\n",
    "\"\"\"\n",
    "1. 사이킷런에 저장된 데이터를 불러오고, \n",
    "   2개의 변수만을 가질 수 있도록 \n",
    "   고정하여 반환하는 함수를 구현합니다.\n",
    "   \n",
    "   Step01. load_wine()을 활용해 사이킷런에 저장된 와인 데이터를 불러옵니다.\n",
    "           데이터는 (X, y) 형태로 불러와야 합니다. (return_X_y를 True로 지정해야 합니다)\n",
    "           \n",
    "   Step02. column_start로 지정된 특정 column으로부터\n",
    "           연속되는 2개의 변수를 X에 저장합니다.\n",
    "          \n",
    "\"\"\"\n",
    "def load_data():\n",
    "    \n",
    "    X, y = load_wine(return_X_y=True)\n",
    "    \n",
    "    column_start = 6\n",
    "    X = X[:, column_start : column_start+2]\n",
    "    print(X.shape)\n",
    "    return X\n",
    "    \n",
    "\"\"\"\n",
    "2. t-SNE를 활용하여 \n",
    "   2차원 데이터를 1차원으로 축소하는 함수를 완성합니다.\n",
    "   \n",
    "   Step01. t-SNE의 n_components를 1로 지정하여 \n",
    "           tsne를 정의합니다.\n",
    "           \n",
    "   Step02. tsne를 활용하여 차원 축소를 진행한 후,\n",
    "           차원이 축소된 데이터 X_tsne를 추출합니다.\n",
    "\"\"\"\n",
    "def tsne_data(X):\n",
    "    \n",
    "    tsne = None\n",
    "    \n",
    "    X_tsne = None\n",
    "    \n",
    "    return tsne, X_tsne\n",
    "\n",
    "def main():\n",
    "    \n",
    "    X = load_data()\n",
    "    \n",
    "    tsne, X_tsne = tsne_data(X)\n",
    "    \n",
    "    print(\"- original shape:   \", X.shape)\n",
    "    print(\"- transformed shape:\", X_tsne.shape)\n",
    "    \n",
    "    print(\"\\n원본 데이터 X :\\n\", X[:5])\n",
    "    print(\"\\n차원 축소 이후 데이터 X_tsne\\n\",X_tsne[:5])\n",
    "    \n",
    "    \n",
    "if __name__ == '__main__':\n",
    "    main()"
   ]
  },
  {
   "cell_type": "code",
   "execution_count": 1,
   "id": "972f1495",
   "metadata": {},
   "outputs": [],
   "source": [
    "from sklearn.datasets import load_wine\n",
    "\n",
    "X, y = load_wine(return_X_y=True)\n",
    "data = load_wine()"
   ]
  },
  {
   "cell_type": "code",
   "execution_count": 2,
   "id": "16e7fedd",
   "metadata": {},
   "outputs": [
    {
     "data": {
      "text/plain": [
       "array([[1.423e+01, 1.710e+00, 2.430e+00, ..., 1.040e+00, 3.920e+00,\n",
       "        1.065e+03],\n",
       "       [1.320e+01, 1.780e+00, 2.140e+00, ..., 1.050e+00, 3.400e+00,\n",
       "        1.050e+03],\n",
       "       [1.316e+01, 2.360e+00, 2.670e+00, ..., 1.030e+00, 3.170e+00,\n",
       "        1.185e+03],\n",
       "       ...,\n",
       "       [1.327e+01, 4.280e+00, 2.260e+00, ..., 5.900e-01, 1.560e+00,\n",
       "        8.350e+02],\n",
       "       [1.317e+01, 2.590e+00, 2.370e+00, ..., 6.000e-01, 1.620e+00,\n",
       "        8.400e+02],\n",
       "       [1.413e+01, 4.100e+00, 2.740e+00, ..., 6.100e-01, 1.600e+00,\n",
       "        5.600e+02]])"
      ]
     },
     "execution_count": 2,
     "metadata": {},
     "output_type": "execute_result"
    }
   ],
   "source": [
    "X"
   ]
  },
  {
   "cell_type": "code",
   "execution_count": 5,
   "id": "c4d4ce9e",
   "metadata": {},
   "outputs": [
    {
     "data": {
      "text/plain": [
       "array([[1.423e+01, 1.710e+00, 2.430e+00, ..., 1.040e+00, 3.920e+00,\n",
       "        1.065e+03],\n",
       "       [1.320e+01, 1.780e+00, 2.140e+00, ..., 1.050e+00, 3.400e+00,\n",
       "        1.050e+03],\n",
       "       [1.316e+01, 2.360e+00, 2.670e+00, ..., 1.030e+00, 3.170e+00,\n",
       "        1.185e+03],\n",
       "       ...,\n",
       "       [1.327e+01, 4.280e+00, 2.260e+00, ..., 5.900e-01, 1.560e+00,\n",
       "        8.350e+02],\n",
       "       [1.317e+01, 2.590e+00, 2.370e+00, ..., 6.000e-01, 1.620e+00,\n",
       "        8.400e+02],\n",
       "       [1.413e+01, 4.100e+00, 2.740e+00, ..., 6.100e-01, 1.600e+00,\n",
       "        5.600e+02]])"
      ]
     },
     "execution_count": 5,
     "metadata": {},
     "output_type": "execute_result"
    }
   ],
   "source": [
    "X_data = data['data']\n",
    "X_data"
   ]
  }
 ],
 "metadata": {
  "kernelspec": {
   "display_name": "Python 3 (ipykernel)",
   "language": "python",
   "name": "python3"
  },
  "language_info": {
   "codemirror_mode": {
    "name": "ipython",
    "version": 3
   },
   "file_extension": ".py",
   "mimetype": "text/x-python",
   "name": "python",
   "nbconvert_exporter": "python",
   "pygments_lexer": "ipython3",
   "version": "3.11.7"
  }
 },
 "nbformat": 4,
 "nbformat_minor": 5
}
