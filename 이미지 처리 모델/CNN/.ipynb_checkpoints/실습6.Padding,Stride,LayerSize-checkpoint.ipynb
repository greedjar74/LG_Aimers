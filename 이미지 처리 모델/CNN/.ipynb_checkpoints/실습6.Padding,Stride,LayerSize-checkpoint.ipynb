{
 "cells": [
  {
   "cell_type": "markdown",
   "id": "30bc0324",
   "metadata": {},
   "source": [
    "# Padding, Stride, Layer Size"
   ]
  },
  {
   "cell_type": "markdown",
   "id": "82b85602",
   "metadata": {},
   "source": [
    "지시사항\n",
    "layers.Conv2D 하나로 이루어진 모델을 만드는 build_model1 함수를 완성하세요. Layer 설정은 아래와 같습니다.\n",
    "커널 개수: 1개\n",
    "커널 크기: (3, 3)\n",
    "strides: (1, 1)\n",
    "padding: \"same\"\n",
    "\n",
    "layers.Conv2D 두개로 이루어진 모델을 만드는 build_model2 함수를 완성하세요. 두 Layer 모두 아래와 같이 설정하세요.\n",
    "커널 개수: 4개\n",
    "커널 크기: (3, 3)\n",
    "strides: (1, 1)\n",
    "padding: \"same\"\n",
    "\n",
    "layers.Conv2D 세개로 이루어진 모델을 만드는 build_model3 함수를 완성하세요. Layer 모두에 적용할 설정과 각 Layer 별 설정은 아래와 같습니다.\n",
    "공통 사항\n",
    "커널 크기: (3, 3)\n",
    "strides: (1, 1)\n",
    "첫번째 Layer\n",
    "커널 개수: 2개\n",
    "padding: \"same\"\n",
    "두번째 Layer\n",
    "커널 개수: 4개\n",
    "padding: \"same\"\n",
    "세번째 Layer\n",
    "커널 개수: 8개\n",
    "padding은 따로 추가하지 않습니다.\n",
    "모델이 잘 완성되었는지 확인하기 위해 가상의 이미지 텐서를 하나 만들어 모델을 통과한 크기가 어떻게 될지 확인할 수 있도록 코드가 완성되어 있습니다. 모델을 모두 구현 후 실행을 통해 확인해보세요."
   ]
  },
  {
   "cell_type": "markdown",
   "id": "db7b15f4",
   "metadata": {},
   "source": [
    "https://han-py.tistory.com/231"
   ]
  },
  {
   "cell_type": "code",
   "execution_count": null,
   "id": "0383f04a",
   "metadata": {},
   "outputs": [],
   "source": [
    "import tensorflow as tf\n",
    "from tensorflow.keras import layers, Sequential\n",
    "\n",
    "# TODO: [지시사항 1번] 지시사항 대로 Conv2D 하나로 이루어진 모델을 완성하세요 \n",
    "def build_model1(input_shape):\n",
    "    model = layers.Conv2D(None, None, None, None,\n",
    "                          activation=\"relu\", \n",
    "                          input_shape=input_shape[1:])\n",
    "    \n",
    "    return model\n",
    "\n",
    "# TODO: [지시사항 2번] 지시사항 대로 Conv2D 두개로 이루어진 모델을 완성하세요 \n",
    "def build_model2(input_shape):\n",
    "    model = Sequential([layers.Conv2D(None, input_shape=input_shape[1:]),\n",
    "                        layers.Conv2D(None)])\n",
    "    \n",
    "    return model\n",
    "\n",
    "# TODO: [지시사항 3번] 지시사항 대로 Conv2D 세개로 이루어진 모델을 완성하세요 \n",
    "def build_model3(input_shape):\n",
    "    model = Sequential()\n",
    "    \n",
    "    model.add(None, input_shape=input_shape[1:])\n",
    "    model.add(None)\n",
    "    model.add(None)\n",
    "    \n",
    "    return model\n",
    "\n",
    "def main():\n",
    "    input_shape = (1, 5, 5, 1)\n",
    "    \n",
    "    model1 = build_model1(input_shape)\n",
    "    model2 = build_model2(input_shape)\n",
    "    model3 = build_model3(input_shape)\n",
    "\n",
    "    x = tf.ones(input_shape)\n",
    "    print(\"model1을 통과한 결과:\", model1(x).shape)\n",
    "    print(\"model2을 통과한 결과:\", model2(x).shape)\n",
    "    print(\"model3을 통과한 결과:\", model3(x).shape)\n",
    "\n",
    "if __name__==\"__main__\":\n",
    "    main()"
   ]
  },
  {
   "cell_type": "code",
   "execution_count": 2,
   "id": "eaf68e8f",
   "metadata": {},
   "outputs": [
    {
     "name": "stdout",
     "output_type": "stream",
     "text": [
      "model1을 통과한 결과: (1, 5, 5, 1)\n",
      "model2을 통과한 결과: (1, 5, 5, 4)\n",
      "model3을 통과한 결과: (1, 3, 3, 8)\n"
     ]
    }
   ],
   "source": [
    "import tensorflow as tf\n",
    "from tensorflow.keras import layers, Sequential\n",
    "\n",
    "# TODO: [지시사항 1번] 지시사항 대로 Conv2D 하나로 이루어진 모델을 완성하세요 \n",
    "def build_model1(input_shape):\n",
    "    model = layers.Conv2D(1, kernel_size=(3, 3), strides=(1,1), padding='same',\n",
    "                          activation=\"relu\", \n",
    "                          input_shape=input_shape[1:])\n",
    "    \n",
    "    return model\n",
    "\n",
    "# TODO: [지시사항 2번] 지시사항 대로 Conv2D 두개로 이루어진 모델을 완성하세요 \n",
    "def build_model2(input_shape):\n",
    "    model = Sequential([layers.Conv2D(4, kernel_size=(3,3), strides=(1,1), padding='same', input_shape=input_shape[1:]),\n",
    "                        layers.Conv2D(4, kernel_size=(3,3), strides=(1,1), padding='same')])\n",
    "    \n",
    "    return model\n",
    "\n",
    "# TODO: [지시사항 3번] 지시사항 대로 Conv2D 세개로 이루어진 모델을 완성하세요 \n",
    "def build_model3(input_shape):\n",
    "    model = Sequential()\n",
    "    \n",
    "    model.add(tf.keras.layers.Conv2D(2, kernel_size=(3,3), strides=(1,1), padding='same', input_shape=input_shape[1:]))\n",
    "    model.add(tf.keras.layers.Conv2D(4, kernel_size=(3,3), strides=(1,1), padding='same'))\n",
    "    model.add(tf.keras.layers.Conv2D(8, kernel_size=(3,3), strides=(1,1)))\n",
    "    \n",
    "    return model\n",
    "\n",
    "input_shape = (1, 5, 5, 1)\n",
    "\n",
    "model1 = build_model1(input_shape)\n",
    "model2 = build_model2(input_shape)\n",
    "model3 = build_model3(input_shape)\n",
    "\n",
    "x = tf.ones(input_shape)\n",
    "print(\"model1을 통과한 결과:\", model1(x).shape)\n",
    "print(\"model2을 통과한 결과:\", model2(x).shape)\n",
    "print(\"model3을 통과한 결과:\", model3(x).shape)"
   ]
  },
  {
   "cell_type": "code",
   "execution_count": null,
   "id": "a4a542db",
   "metadata": {},
   "outputs": [],
   "source": []
  }
 ],
 "metadata": {
  "kernelspec": {
   "display_name": "Python 3 (ipykernel)",
   "language": "python",
   "name": "python3"
  },
  "language_info": {
   "codemirror_mode": {
    "name": "ipython",
    "version": 3
   },
   "file_extension": ".py",
   "mimetype": "text/x-python",
   "name": "python",
   "nbconvert_exporter": "python",
   "pygments_lexer": "ipython3",
   "version": "3.11.7"
  }
 },
 "nbformat": 4,
 "nbformat_minor": 5
}
